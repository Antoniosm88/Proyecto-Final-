{
 "cells": [
  {
   "cell_type": "code",
   "execution_count": 2,
   "metadata": {},
   "outputs": [],
   "source": [
    "from selenium import webdriver\n",
    "from selenium.webdriver.common.keys import Keys\n",
    "from time import sleep\n",
    "import pandas as pd\n",
    "from selenium.webdriver.common.by import By\n",
    "from selenium.webdriver.common.action_chains import ActionChains\n",
    "from selenium.webdriver.common.keys import Keys\n",
    "import pandas as pd\n",
    "import re"
   ]
  },
  {
   "cell_type": "code",
   "execution_count": 3,
   "metadata": {},
   "outputs": [],
   "source": [
    "options = webdriver.ChromeOptions()\n",
    "options.add_argument(\"--headless\")\n",
    "options.add_argument(\"start-maximized\")\n",
    "options.add_argument(\"--disable-infobars\")\n",
    "driver = webdriver.Chrome(executable_path=r'/usr/bin/chromedriver',options=options) \n",
    "driver.execute_script(\"window.scrollTo(0,document.body.scrollHeight)\")\n",
    "driver.get('https://www.flexicar.es/coches-segunda-mano/#precio_to/10000/')"
   ]
  },
  {
   "cell_type": "code",
   "execution_count": 66,
   "metadata": {},
   "outputs": [
    {
     "data": {
      "text/plain": [
       "[<selenium.webdriver.remote.webelement.WebElement (session=\"242f9a89b7f710438c5c93de0416d804\", element=\"0.9737880467033488-4\")>]"
      ]
     },
     "execution_count": 66,
     "metadata": {},
     "output_type": "execute_result"
    }
   ],
   "source": [
    "precio= autos = driver.find_elements_by_xpath('//*[@id=\"listadocoches\"]')\n",
    "precio"
   ]
  },
  {
   "cell_type": "code",
   "execution_count": 67,
   "metadata": {},
   "outputs": [
    {
     "data": {
      "text/plain": [
       "['10.090€\\n9.390€\\nPrevious\\nNext\\nRenault Megane Coupé Bose EDC Tce 130\\n2015 66.250 kmGasolina Vaciamadrid\\ndesde 128€/mes   \\n11.490€\\n9.990€\\nPrevious\\nNext\\nSmart Forfour 0.9 66kW (90CV) S/S PROXY\\n2016 26.000 kmGasolina Alicante\\nAutomático  desde 136€/mes\\n7.990€\\n6.990€\\nPrevious\\nNext\\nFord Fiesta 1.5 TDCi 75cv Trend 3p\\n2014 37.500 kmDiesel Alicante\\ndesde 101€/mes   \\n6.790€\\n5.990€\\nPrevious\\nNext\\nKia Rio 1.2 CVVT 85cv Concept\\n2013 79.990 kmGasolina Alicante\\ndesde 93€/mes   \\n10.990€\\n9.990€\\nPrevious\\nNext\\nSEAT Ibiza 1.0 MPI 59kW (80CV) Reference Plus\\n2019 28.680 kmGasolina Vaciamadrid\\ndesde 136€/mes   \\n5.790€\\n4.990€\\nPrevious\\nNext\\nPeugeot 207 ACTIVE 1.4i 75\\n2012 88.380 kmGasolina Vaciamadrid\\ndesde 84€/mes   \\n9.790€\\n8.790€\\nPrevious\\nNext\\nFord Ka+ 1.2 Ti-VCT 63kW White Edition\\n2018 32.320 kmGasolina Vaciamadrid\\ndesde 120€/mes   \\n9.390€\\n8.390€\\nPrevious\\nNext\\nFord Ka+ 1.2 Ti-VCT 51kW Ultimate\\n2018 19.000 kmGasolina Vaciamadrid\\ndesde 114€/mes   \\n4.500€\\n3.490€\\nPrevious\\nNext\\nSEAT Leon 1.9 TDi 110CV SPORT\\n2003 175.000 kmDiesel Móstoles\\n   ']"
      ]
     },
     "execution_count": 67,
     "metadata": {},
     "output_type": "execute_result"
    }
   ],
   "source": [
    "cochesBuenos= [e.text for e in precio]\n",
    "cochesBuenos"
   ]
  },
  {
   "cell_type": "code",
   "execution_count": 68,
   "metadata": {},
   "outputs": [],
   "source": [
    "for e in cochesBuenos:\n",
    "    ok=e.split(\"\\n\")"
   ]
  },
  {
   "cell_type": "code",
   "execution_count": 69,
   "metadata": {},
   "outputs": [],
   "source": [
    "droplist=['Previous',\n",
    " 'Next']\n",
    "\n",
    "cleanList=[e for e in ok if e not in droplist]\n"
   ]
  },
  {
   "cell_type": "code",
   "execution_count": 70,
   "metadata": {},
   "outputs": [
    {
     "data": {
      "text/plain": [
       "['10.090€',\n",
       " '9.390€',\n",
       " 'Renault Megane Coupé Bose EDC Tce 130',\n",
       " '2015 66.250 kmGasolina Vaciamadrid',\n",
       " 'desde 128€/mes   ',\n",
       " '11.490€',\n",
       " '9.990€',\n",
       " 'Smart Forfour 0.9 66kW (90CV) S/S PROXY',\n",
       " '2016 26.000 kmGasolina Alicante',\n",
       " 'Automático  desde 136€/mes',\n",
       " '7.990€',\n",
       " '6.990€',\n",
       " 'Ford Fiesta 1.5 TDCi 75cv Trend 3p',\n",
       " '2014 37.500 kmDiesel Alicante',\n",
       " 'desde 101€/mes   ',\n",
       " '6.790€',\n",
       " '5.990€',\n",
       " 'Kia Rio 1.2 CVVT 85cv Concept',\n",
       " '2013 79.990 kmGasolina Alicante',\n",
       " 'desde 93€/mes   ',\n",
       " '10.990€',\n",
       " '9.990€',\n",
       " 'SEAT Ibiza 1.0 MPI 59kW (80CV) Reference Plus',\n",
       " '2019 28.680 kmGasolina Vaciamadrid',\n",
       " 'desde 136€/mes   ',\n",
       " '5.790€',\n",
       " '4.990€',\n",
       " 'Peugeot 207 ACTIVE 1.4i 75',\n",
       " '2012 88.380 kmGasolina Vaciamadrid',\n",
       " 'desde 84€/mes   ',\n",
       " '9.790€',\n",
       " '8.790€',\n",
       " 'Ford Ka+ 1.2 Ti-VCT 63kW White Edition',\n",
       " '2018 32.320 kmGasolina Vaciamadrid',\n",
       " 'desde 120€/mes   ',\n",
       " '9.390€',\n",
       " '8.390€',\n",
       " 'Ford Ka+ 1.2 Ti-VCT 51kW Ultimate',\n",
       " '2018 19.000 kmGasolina Vaciamadrid',\n",
       " 'desde 114€/mes   ',\n",
       " '4.500€',\n",
       " '3.490€',\n",
       " 'SEAT Leon 1.9 TDi 110CV SPORT',\n",
       " '2003 175.000 kmDiesel Móstoles',\n",
       " '   ']"
      ]
     },
     "execution_count": 70,
     "metadata": {},
     "output_type": "execute_result"
    }
   ],
   "source": [
    "cleanList"
   ]
  },
  {
   "cell_type": "code",
   "execution_count": 121,
   "metadata": {},
   "outputs": [
    {
     "data": {
      "text/plain": [
       "['2015 66.250 kmGasolina Vaciamadrid',\n",
       " '2016 26.000 kmGasolina Alicante',\n",
       " '2014 37.500 kmDiesel Alicante',\n",
       " '2013 79.990 kmGasolina Alicante',\n",
       " '2019 28.680 kmGasolina Vaciamadrid',\n",
       " '2012 88.380 kmGasolina Vaciamadrid',\n",
       " '2018 32.320 kmGasolina Vaciamadrid',\n",
       " '2018 19.000 kmGasolina Vaciamadrid',\n",
       " '2003 175.000 kmDiesel Móstoles']"
      ]
     },
     "execution_count": 121,
     "metadata": {},
     "output_type": "execute_result"
    }
   ],
   "source": [
    "priceWithoutDiscount=cleanList[0::5]\n",
    "priceWithDiscount=cleanList[1::5]\n",
    "model=cleanList[2::5]\n",
    "cleanColumn=cleanList[3::5]\n",
    "\n",
    "cleanColumn"
   ]
  },
  {
   "cell_type": "code",
   "execution_count": 111,
   "metadata": {},
   "outputs": [
    {
     "data": {
      "text/plain": [
       "['2015', '2016', '2014', '2013', '2019', '2012', '2018', '2018', '2003']"
      ]
     },
     "execution_count": 111,
     "metadata": {},
     "output_type": "execute_result"
    }
   ],
   "source": [
    "KMsucio=[re.findall(r\"\\d{4}\",e) for e in cleanColumn]\n",
    "KMsucio\n",
    "KM = [item for sublist in KMsucio for item in sublist]\n",
    "KM"
   ]
  },
  {
   "cell_type": "code",
   "execution_count": 167,
   "metadata": {},
   "outputs": [],
   "source": [
    "#Limpiando columna combustible\n",
    "combustiblesucio=[re.findall(r\"([$D-G](\\w+))\",e) for e in cleanColumn]\n",
    "combustiblesucio=[list(item) for sublist in combustiblesucio for item in sublist]\n"
   ]
  },
  {
   "cell_type": "code",
   "execution_count": 190,
   "metadata": {},
   "outputs": [
    {
     "data": {
      "text/plain": [
       "['Gasolina',\n",
       " 'asolina',\n",
       " 'Gasolina',\n",
       " 'asolina',\n",
       " 'Diesel',\n",
       " 'iesel',\n",
       " 'Gasolina',\n",
       " 'asolina',\n",
       " 'Gasolina',\n",
       " 'asolina',\n",
       " 'Gasolina',\n",
       " 'asolina',\n",
       " 'Gasolina',\n",
       " 'asolina',\n",
       " 'Gasolina',\n",
       " 'asolina',\n",
       " 'Diesel',\n",
       " 'iesel']"
      ]
     },
     "execution_count": 190,
     "metadata": {},
     "output_type": "execute_result"
    }
   ],
   "source": [
    "combustible=[item for sublist in combustiblesucio for item in sublist]\n",
    "gas=[]\n",
    "for e in combustible:\n",
    "    if e == 'Gasolina':\n",
    "        gas.append(e)\n",
    "    elif e == \"Diesel\":\n",
    "        gas.append(e)\n",
    "gas"
   ]
  },
  {
   "cell_type": "code",
   "execution_count": 206,
   "metadata": {},
   "outputs": [
    {
     "data": {
      "text/plain": [
       "['Vaciamadrid', 'Vaciamadrid', 'Vaciamadrid', 'Vaciamadrid', 'Vaciamadrid']"
      ]
     },
     "execution_count": 206,
     "metadata": {},
     "output_type": "execute_result"
    }
   ],
   "source": [
    "ciudad=[]\n",
    "for e in cleanColumn:\n",
    "    ciudad.append(re.findall(r\"\\w+d\",e))\n",
    "    \n",
    "Ciudad1 = [item for sublist in ciudad for item in sublist]\n",
    "Ciudad1"
   ]
  },
  {
   "cell_type": "code",
   "execution_count": 194,
   "metadata": {},
   "outputs": [
    {
     "data": {
      "text/plain": [
       "['madrid', 'madrid', 'madrid', 'madrid', 'madrid']"
      ]
     },
     "execution_count": 194,
     "metadata": {},
     "output_type": "execute_result"
    }
   ],
   "source": [
    "#quitamos vacias\n",
    "Ciudad=[lugar.replace('Vacia', '') for lugar in Ciudad1]\n",
    "\n",
    "Ciudad"
   ]
  },
  {
   "cell_type": "code",
   "execution_count": 200,
   "metadata": {},
   "outputs": [],
   "source": [
    "df = pd.DataFrame({'priceWithoutDiscount' : priceWithoutDiscount,\n",
    "                   'priceWithDiscount': priceWithDiscount,\n",
    "                     'Model' : model,\n",
    "                     'gas': gas,\n",
    "                     'Año': KM\n",
    "                  \n",
    "                  })"
   ]
  },
  {
   "cell_type": "code",
   "execution_count": 201,
   "metadata": {},
   "outputs": [
    {
     "data": {
      "text/html": [
       "<div>\n",
       "<style scoped>\n",
       "    .dataframe tbody tr th:only-of-type {\n",
       "        vertical-align: middle;\n",
       "    }\n",
       "\n",
       "    .dataframe tbody tr th {\n",
       "        vertical-align: top;\n",
       "    }\n",
       "\n",
       "    .dataframe thead th {\n",
       "        text-align: right;\n",
       "    }\n",
       "</style>\n",
       "<table border=\"1\" class=\"dataframe\">\n",
       "  <thead>\n",
       "    <tr style=\"text-align: right;\">\n",
       "      <th></th>\n",
       "      <th>priceWithoutDiscount</th>\n",
       "      <th>priceWithDiscount</th>\n",
       "      <th>Model</th>\n",
       "      <th>gas</th>\n",
       "      <th>Año</th>\n",
       "    </tr>\n",
       "  </thead>\n",
       "  <tbody>\n",
       "    <tr>\n",
       "      <th>0</th>\n",
       "      <td>10.090€</td>\n",
       "      <td>9.390€</td>\n",
       "      <td>Renault Megane Coupé Bose EDC Tce 130</td>\n",
       "      <td>Gasolina</td>\n",
       "      <td>2015</td>\n",
       "    </tr>\n",
       "    <tr>\n",
       "      <th>1</th>\n",
       "      <td>11.490€</td>\n",
       "      <td>9.990€</td>\n",
       "      <td>Smart Forfour 0.9 66kW (90CV) S/S PROXY</td>\n",
       "      <td>Gasolina</td>\n",
       "      <td>2016</td>\n",
       "    </tr>\n",
       "    <tr>\n",
       "      <th>2</th>\n",
       "      <td>7.990€</td>\n",
       "      <td>6.990€</td>\n",
       "      <td>Ford Fiesta 1.5 TDCi 75cv Trend 3p</td>\n",
       "      <td>Diesel</td>\n",
       "      <td>2014</td>\n",
       "    </tr>\n",
       "    <tr>\n",
       "      <th>3</th>\n",
       "      <td>6.790€</td>\n",
       "      <td>5.990€</td>\n",
       "      <td>Kia Rio 1.2 CVVT 85cv Concept</td>\n",
       "      <td>Gasolina</td>\n",
       "      <td>2013</td>\n",
       "    </tr>\n",
       "    <tr>\n",
       "      <th>4</th>\n",
       "      <td>10.990€</td>\n",
       "      <td>9.990€</td>\n",
       "      <td>SEAT Ibiza 1.0 MPI 59kW (80CV) Reference Plus</td>\n",
       "      <td>Gasolina</td>\n",
       "      <td>2019</td>\n",
       "    </tr>\n",
       "    <tr>\n",
       "      <th>5</th>\n",
       "      <td>5.790€</td>\n",
       "      <td>4.990€</td>\n",
       "      <td>Peugeot 207 ACTIVE 1.4i 75</td>\n",
       "      <td>Gasolina</td>\n",
       "      <td>2012</td>\n",
       "    </tr>\n",
       "    <tr>\n",
       "      <th>6</th>\n",
       "      <td>9.790€</td>\n",
       "      <td>8.790€</td>\n",
       "      <td>Ford Ka+ 1.2 Ti-VCT 63kW White Edition</td>\n",
       "      <td>Gasolina</td>\n",
       "      <td>2018</td>\n",
       "    </tr>\n",
       "    <tr>\n",
       "      <th>7</th>\n",
       "      <td>9.390€</td>\n",
       "      <td>8.390€</td>\n",
       "      <td>Ford Ka+ 1.2 Ti-VCT 51kW Ultimate</td>\n",
       "      <td>Gasolina</td>\n",
       "      <td>2018</td>\n",
       "    </tr>\n",
       "    <tr>\n",
       "      <th>8</th>\n",
       "      <td>4.500€</td>\n",
       "      <td>3.490€</td>\n",
       "      <td>SEAT Leon 1.9 TDi 110CV SPORT</td>\n",
       "      <td>Diesel</td>\n",
       "      <td>2003</td>\n",
       "    </tr>\n",
       "  </tbody>\n",
       "</table>\n",
       "</div>"
      ],
      "text/plain": [
       "  priceWithoutDiscount priceWithDiscount  \\\n",
       "0              10.090€            9.390€   \n",
       "1              11.490€            9.990€   \n",
       "2               7.990€            6.990€   \n",
       "3               6.790€            5.990€   \n",
       "4              10.990€            9.990€   \n",
       "5               5.790€            4.990€   \n",
       "6               9.790€            8.790€   \n",
       "7               9.390€            8.390€   \n",
       "8               4.500€            3.490€   \n",
       "\n",
       "                                           Model       gas   Año  \n",
       "0          Renault Megane Coupé Bose EDC Tce 130  Gasolina  2015  \n",
       "1        Smart Forfour 0.9 66kW (90CV) S/S PROXY  Gasolina  2016  \n",
       "2             Ford Fiesta 1.5 TDCi 75cv Trend 3p    Diesel  2014  \n",
       "3                  Kia Rio 1.2 CVVT 85cv Concept  Gasolina  2013  \n",
       "4  SEAT Ibiza 1.0 MPI 59kW (80CV) Reference Plus  Gasolina  2019  \n",
       "5                     Peugeot 207 ACTIVE 1.4i 75  Gasolina  2012  \n",
       "6         Ford Ka+ 1.2 Ti-VCT 63kW White Edition  Gasolina  2018  \n",
       "7              Ford Ka+ 1.2 Ti-VCT 51kW Ultimate  Gasolina  2018  \n",
       "8                  SEAT Leon 1.9 TDi 110CV SPORT    Diesel  2003  "
      ]
     },
     "execution_count": 201,
     "metadata": {},
     "output_type": "execute_result"
    }
   ],
   "source": [
    "df"
   ]
  },
  {
   "cell_type": "code",
   "execution_count": 81,
   "metadata": {},
   "outputs": [
    {
     "data": {
      "text/plain": [
       "['2015 66.250 kmGasolina Vaciamadrid',\n",
       " '2016 26.000 kmGasolina Alicante',\n",
       " '2014 37.500 kmDiesel Alicante',\n",
       " '2013 79.990 kmGasolina Alicante',\n",
       " '2019 28.680 kmGasolina Vaciamadrid',\n",
       " '2012 88.380 kmGasolina Vaciamadrid',\n",
       " '2018 32.320 kmGasolina Vaciamadrid',\n",
       " '2018 19.000 kmGasolina Vaciamadrid',\n",
       " '2003 175.000 kmDiesel Móstoles']"
      ]
     },
     "execution_count": 81,
     "metadata": {},
     "output_type": "execute_result"
    }
   ],
   "source": [
    "cleanColumn"
   ]
  },
  {
   "cell_type": "code",
   "execution_count": 91,
   "metadata": {},
   "outputs": [],
   "source": []
  },
  {
   "cell_type": "code",
   "execution_count": 92,
   "metadata": {},
   "outputs": [
    {
     "data": {
      "text/plain": [
       "[['2015'],\n",
       " ['2016'],\n",
       " ['2014'],\n",
       " ['2013'],\n",
       " ['2019'],\n",
       " ['2012'],\n",
       " ['2018'],\n",
       " ['2018'],\n",
       " ['2003']]"
      ]
     },
     "execution_count": 92,
     "metadata": {},
     "output_type": "execute_result"
    }
   ],
   "source": [
    "km"
   ]
  },
  {
   "cell_type": "code",
   "execution_count": null,
   "metadata": {},
   "outputs": [],
   "source": []
  }
 ],
 "metadata": {
  "kernelspec": {
   "display_name": "Python 3",
   "language": "python",
   "name": "python3"
  },
  "language_info": {
   "codemirror_mode": {
    "name": "ipython",
    "version": 3
   },
   "file_extension": ".py",
   "mimetype": "text/x-python",
   "name": "python",
   "nbconvert_exporter": "python",
   "pygments_lexer": "ipython3",
   "version": "3.6.9"
  }
 },
 "nbformat": 4,
 "nbformat_minor": 4
}
