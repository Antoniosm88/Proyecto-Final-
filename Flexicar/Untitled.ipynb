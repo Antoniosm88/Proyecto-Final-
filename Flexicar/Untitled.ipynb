{
 "cells": [
  {
   "cell_type": "markdown",
   "metadata": {},
   "source": [
    "if input1 == \"Menos de 15.000km\" and input2 == \"Sobretodo por ciudad y muy pocos viajes por carretera al año.\" and input3 == \"Suelo viajar sólo y/o una persona más.\":\n",
    "    Tipo1\n",
    "elif input1 == \"Menos de 15.000 km\" and input2 == \"Por ciudad y carretera por igual.\" and input3 == \"Suelo viajar sólo y/o una persona más.\":\n",
    "    Tipo2\n",
    "elif input1 == \"Más de 15.000 km\" and input2 == \"Uso el vehículo sobretodo para viajar y muy poco por ciudad.\" and input3 == \"Suelo viajar sólo y/o una persona más.\":\n",
    "    Tipo3\n",
    "elif input1 == \"Más de 15.000 km\" and input2 == \"Uso el vehículo sobretodo para viajar y muy poco por ciudad.\" and input3 == \"Suelo viajar con la familia (3 personas máx).\":\n",
    "    Tipo4\n",
    "elif input1 == \"Menos de 15.000km\" and input2 == \"Sobretodo por ciudad y muy pocos viajes por carretera al año.\" and input3 == \"Suelo viajar con la familia (3 personas máx).\":\n",
    "    Tipo5\n",
    "elif input1 == \"Menos de 15.000km\" and input2 == \"Sobretodo por ciudad y muy pocos viajes por carretera al año.\" and input3 ==\"Suelo viajar con la familia (más de 3 personas).\":\n",
    "    Tipo6\n",
    "elif input1 == \"Más de 15.000km\" and input2 == \"Uso el vehículo sobretodo para viajar y muy poco por ciudad.\" and input3 ==\"Suelo viajar con la familia (más de 3 personas).\":\n",
    "    Tipo7\n",
    "\n"
   ]
  },
  {
   "cell_type": "code",
   "execution_count": 2,
   "metadata": {},
   "outputs": [],
   "source": [
    "import streamlit as st\n",
    "from selenium import webdriver\n",
    "from selenium.webdriver.common.keys import Keys\n",
    "from time import sleep\n",
    "import streamlit as st\n",
    "import pandas as pd\n",
    "from selenium.webdriver.common.by import By\n",
    "from selenium.webdriver.common.action_chains import ActionChains\n",
    "from selenium.webdriver.common.keys import Keys\n",
    "import pandas as pd\n",
    "import numpy as np\n",
    "import re"
   ]
  },
  {
   "cell_type": "code",
   "execution_count": 12,
   "metadata": {},
   "outputs": [],
   "source": [
    "# Tipos de usuarios:\n",
    "\n",
    "Tipo1=\"https://www.flexicar.es/combustible-gasolina/carroceria-compacto/segunda-mano/\"\n",
    "Tipo2= \"https://www.flexicar.es/combustible-gasolina/carroceria-turismo/segunda-mano/\"\n",
    "Tipo3= \"https://www.flexicar.es/combustible-diesel/carroceria-turismo/segunda-mano/\"\n",
    "Tipo4= \"https://www.flexicar.es/combustible-diesel/carroceria-familiar/segunda-mano/\"\n",
    "Tipo5= \"https://www.flexicar.es/combustible-gasolina/carroceria-familiar/segunda-mano/\"\n",
    "Tipo6= \"https://www.flexicar.es/combustible-gasolina/carroceria-monovolumen/segunda-mano/\"\n",
    "Tipo7= \"https://www.flexicar.es/combustible-diesel/carroceria-monovolumen/segunda-mano/\""
   ]
  },
  {
   "cell_type": "code",
   "execution_count": 13,
   "metadata": {},
   "outputs": [],
   "source": [
    "def concat(*args):\n",
    "        strs = [str(arg) for arg in args if not pd.isnull(arg)]\n",
    "        return ','.join(strs) if strs else np.nan"
   ]
  },
  {
   "cell_type": "code",
   "execution_count": 14,
   "metadata": {},
   "outputs": [],
   "source": [
    "def FlexicarScraping(tipo):\n",
    "    #URL=f'https://www.flexicar.es/coches-segunda-mano/#precio_to/{presupuesto}/'\n",
    "    options = webdriver.ChromeOptions()\n",
    "    options.add_argument(\"--headless\")\n",
    "    options.add_argument(\"start-maximized\")\n",
    "    options.add_argument(\"--disable-infobars\")\n",
    "    driver = webdriver.Chrome(executable_path=r'/usr/bin/chromedriver',options=options) \n",
    "    driver.execute_script(\"window.scrollTo(0,document.body.scrollHeight)\")\n",
    "    driver.get(tipo)\n",
    "    precio= driver.find_elements_by_xpath('//*[@id=\"listadocoches\"]')\n",
    "    cochesBuenos= [e.text for e in precio]\n",
    "    for e in cochesBuenos:\n",
    "        ok=e.split(\"\\n\")\n",
    "    droplist=['Previous','Next',\"IVA deducible\"]\n",
    "    cleanList=[e for e in ok if e not in droplist]\n",
    "    CleanList=[]\n",
    "    for e in cleanList:\n",
    "        if not \"desde\" in e:\n",
    "             CleanList.append(e)\n",
    "    priceWithDiscount=CleanList[1::4]\n",
    "    model=CleanList[2::4]\n",
    "    cleanColumn=CleanList[3::4]\n",
    "    for e in cleanColumn:\n",
    "        ok=e.split(\"\\n\")\n",
    "    cleanColumn2=[e.split(\"\\n\") for e in cleanColumn]\n",
    "    ok2=[]\n",
    "    for e in cleanColumn2:\n",
    "        for i in e:\n",
    "            ok2.append(i.split())\n",
    "    Año=[e[0] for e in ok2]\n",
    "    Combustible=[e[2] for e in ok2]\n",
    "    combustiblesucio=[re.findall(r\"([$D-H](\\w+))\",e) for e in Combustible]\n",
    "    combustiblesucio=[list(item) for sublist in combustiblesucio for item in sublist]\n",
    "    combustible=[item for sublist in combustiblesucio for item in sublist]\n",
    "    gas=[]\n",
    "    for e in combustible:\n",
    "        if e == 'Hibrido':\n",
    "            gas.append(e)\n",
    "        elif e == \"Diesel\":\n",
    "            gas.append(e)\n",
    "        elif e == \"Gasolina\":\n",
    "            gas.append(e)\n",
    "        elif e == \"Electrico\":\n",
    "            gas.append(e)\n",
    "        elif e == \"GLP\":\n",
    "            gas.append(e)\n",
    "    df = pd.DataFrame({\n",
    "                   'priceWithDiscount': priceWithDiscount,\n",
    "                     'Model' : model,\n",
    "                     'Combustible': gas,\n",
    "                     'Año': Año,\n",
    "                     'cleanToSplit': cleanColumn\n",
    "                  })\n",
    "    df1 = pd.DataFrame(df.cleanToSplit.str.split(' ',4).tolist(),\n",
    "                                 columns = [\"Año1\",\"KM\",\"3\",\"Ciudad\",\"nan\"])\n",
    "    result = pd.concat([df, df1], axis=1, sort=False)\n",
    "    flexicar = result.drop([\"cleanToSplit\",'Año1','3'], axis=1)\n",
    "    np_concat = np.vectorize(concat)\n",
    "    flexicar['Ciudad'] = np_concat(flexicar['Ciudad'], flexicar['nan'])\n",
    "    flexicar = flexicar.drop(['nan'], axis=1)\n",
    "    \n",
    "    \n",
    "    return flexicar.sort_values(by='Año', ascending=[True])"
   ]
  },
  {
   "cell_type": "code",
   "execution_count": 15,
   "metadata": {},
   "outputs": [],
   "source": [
    "km = st.multiselect(\n",
    "    \"¿Cuántos Km haces al año?\", [\"Más de 15.000 km\",\"Menos de 15.000km\"]\n",
    ")\n",
    "uso = st.multiselect(\n",
    "    \"¿Cómo serán tus desplazamientos con tu vehículo?\",\n",
    "     [\"Sobretodo por ciudad y muy pocos viajes por carretera al año.\",\n",
    "     \"Por ciudad y carretera por igual.\", \"Uso el vehículo sobretodo para viajar y muy poco por ciudad.\",\n",
    "     ]\n",
    ")\n",
    "familia = st.multiselect(\n",
    "    \"¿Cuántas personas suelen viajar contigo?\",\n",
    "     [\"Suelo viajar sólo y/o una persona más.\",\n",
    "     \"Suelo viajar con la familia (3 personas máx).\", \n",
    "     \"Suelo viajar con la familia (más de 3 personas).\"\n",
    "     ]\n",
    ")"
   ]
  },
  {
   "cell_type": "code",
   "execution_count": 16,
   "metadata": {},
   "outputs": [
    {
     "data": {
      "text/plain": [
       "[]"
      ]
     },
     "execution_count": 16,
     "metadata": {},
     "output_type": "execute_result"
    }
   ],
   "source": [
    "km"
   ]
  },
  {
   "cell_type": "code",
   "execution_count": 8,
   "metadata": {},
   "outputs": [
    {
     "ename": "IndexError",
     "evalue": "list index out of range",
     "output_type": "error",
     "traceback": [
      "\u001b[0;31m---------------------------------------------------------------------------\u001b[0m",
      "\u001b[0;31mIndexError\u001b[0m                                Traceback (most recent call last)",
      "\u001b[0;32m<ipython-input-8-8ccda0512db5>\u001b[0m in \u001b[0;36m<module>\u001b[0;34m\u001b[0m\n\u001b[0;32m----> 1\u001b[0;31m \u001b[0;32mif\u001b[0m \u001b[0mkm\u001b[0m\u001b[0;34m[\u001b[0m\u001b[0;36m1\u001b[0m\u001b[0;34m]\u001b[0m \u001b[0;32mand\u001b[0m \u001b[0muso\u001b[0m\u001b[0;34m[\u001b[0m\u001b[0;36m0\u001b[0m\u001b[0;34m]\u001b[0m  \u001b[0;32mand\u001b[0m \u001b[0mfamilia\u001b[0m\u001b[0;34m[\u001b[0m\u001b[0;36m0\u001b[0m\u001b[0;34m]\u001b[0m\u001b[0;34m:\u001b[0m\u001b[0;34m\u001b[0m\u001b[0;34m\u001b[0m\u001b[0m\n\u001b[0m\u001b[1;32m      2\u001b[0m     \u001b[0mdf\u001b[0m\u001b[0;34m=\u001b[0m\u001b[0mFlexicarScraping\u001b[0m\u001b[0;34m(\u001b[0m\u001b[0mTipo1\u001b[0m\u001b[0;34m)\u001b[0m\u001b[0;34m\u001b[0m\u001b[0;34m\u001b[0m\u001b[0m\n\u001b[1;32m      3\u001b[0m     \u001b[0mst\u001b[0m\u001b[0;34m.\u001b[0m\u001b[0mdataframe\u001b[0m\u001b[0;34m(\u001b[0m\u001b[0mdf\u001b[0m\u001b[0;34m)\u001b[0m\u001b[0;34m\u001b[0m\u001b[0;34m\u001b[0m\u001b[0m\n\u001b[1;32m      4\u001b[0m \u001b[0;32melif\u001b[0m \u001b[0mkm\u001b[0m\u001b[0;34m[\u001b[0m\u001b[0;36m1\u001b[0m\u001b[0;34m]\u001b[0m \u001b[0;32mand\u001b[0m \u001b[0muso\u001b[0m\u001b[0;34m[\u001b[0m\u001b[0;36m1\u001b[0m\u001b[0;34m]\u001b[0m  \u001b[0;32mand\u001b[0m \u001b[0mfamilia\u001b[0m\u001b[0;34m[\u001b[0m\u001b[0;36m0\u001b[0m\u001b[0;34m]\u001b[0m\u001b[0;34m:\u001b[0m\u001b[0;34m\u001b[0m\u001b[0;34m\u001b[0m\u001b[0m\n\u001b[1;32m      5\u001b[0m     \u001b[0mdf1\u001b[0m\u001b[0;34m=\u001b[0m\u001b[0mFlexicarScraping\u001b[0m\u001b[0;34m(\u001b[0m\u001b[0mTipo2\u001b[0m\u001b[0;34m)\u001b[0m\u001b[0;34m\u001b[0m\u001b[0;34m\u001b[0m\u001b[0m\n",
      "\u001b[0;31mIndexError\u001b[0m: list index out of range"
     ]
    }
   ],
   "source": [
    "if km[1] and uso[0]  and familia[0]:\n",
    "    df=FlexicarScraping(Tipo1)\n",
    "    st.dataframe(df)\n",
    "elif km[1] and uso[1]  and familia[0]:\n",
    "    df1=FlexicarScraping(Tipo2)\n",
    "    st.dataframe(df1)\n",
    "    print(\"ok\")\n",
    "elif km[0] and uso[2]  and familia[0]:\n",
    "    df2=FlexicarScraping(Tipo3)\n",
    "    st.dataframe(df2)\n",
    "elif km[0] and uso[2] and familia[1]:\n",
    "    df3=FlexicarScraping(Tipo4)\n",
    "    st.dataframe(df3)\n",
    "elif km[1] and uso[0] and familia[1]:\n",
    "    df4=FlexicarScraping(Tipo5)\n",
    "    st.dataframe(df4)\n",
    "elif km[1] and uso[0] and familia[2]:\n",
    "    df5=FlexicarScraping(Tipo6)\n",
    "    st.dataframe(df5)\n",
    "elif km[0] and uso[2] and familia[2]:\n",
    "    df6=FlexicarScraping(Tipo7)\n",
    "    st.dataframe(df6)"
   ]
  },
  {
   "cell_type": "code",
   "execution_count": null,
   "metadata": {},
   "outputs": [],
   "source": [
    "Tipo1=\"https://www.flexicar.es/combustible-gasolina/carroceria-compacto/segunda-mano/\"\n",
    "Tipo2= \"https://www.flexicar.es/combustible-gasolina/carroceria-turismo/segunda-mano/\"\n",
    "Tipo3= \"https://www.flexicar.es/combustible-diesel/carroceria-turismo/segunda-mano/\"\n",
    "Tipo4= \"https://www.flexicar.es/combustible-diesel/carroceria-familiar/segunda-mano/\"\n",
    "Tipo5= \"https://www.flexicar.es/combustible-gasolina/carroceria-familiar/segunda-mano/\"\n",
    "Tipo6= \"https://www.flexicar.es/combustible-gasolina/carroceria-monovolumen/segunda-mano/\"\n",
    "Tipo7= \"https://www.flexicar.es/combustible-diesel/carroceria-monovolumen/segunda-mano/\""
   ]
  },
  {
   "cell_type": "code",
   "execution_count": null,
   "metadata": {},
   "outputs": [],
   "source": []
  },
  {
   "cell_type": "code",
   "execution_count": null,
   "metadata": {},
   "outputs": [],
   "source": []
  },
  {
   "cell_type": "code",
   "execution_count": null,
   "metadata": {},
   "outputs": [],
   "source": [
    "if km[1] and uso[0] and familia[0]:\n",
    "    df=FlexicarScraping(Tipo1)\n",
    "    st.dataframe(df)\n",
    "elif km[1] and uso[1] and familia[0]:\n",
    "    df1=FlexicarScraping(Tipo2)\n",
    "    st.dataframe(df1)\n",
    "    print(\"ok\")\n",
    "elif km[0] and uso[2] and familia[0]:\n",
    "    df2=FlexicarScraping(Tipo3)\n",
    "    st.dataframe(df2)\n",
    "elif km[0] and uso[2] and familia[1]:\n",
    "    df3=FlexicarScraping(Tipo4)\n",
    "    st.dataframe(df3)\n",
    "elif km[1] and uso[0] and familia[1]:\n",
    "    df4=FlexicarScraping(Tipo5)\n",
    "    st.dataframe(df4)\n",
    "elif km[1] and uso[0] and familia[2]:\n",
    "    df5=FlexicarScraping(Tipo6)\n",
    "    st.dataframe(df5)\n",
    "elif km[0] and uso[2] and familia[2]:\n",
    "    df6=FlexicarScraping(Tipo7)\n",
    "    st.dataframe(df6)\n"
   ]
  },
  {
   "cell_type": "code",
   "execution_count": null,
   "metadata": {},
   "outputs": [],
   "source": []
  },
  {
   "cell_type": "code",
   "execution_count": null,
   "metadata": {},
   "outputs": [],
   "source": []
  },
  {
   "cell_type": "code",
   "execution_count": null,
   "metadata": {},
   "outputs": [],
   "source": []
  },
  {
   "cell_type": "code",
   "execution_count": null,
   "metadata": {},
   "outputs": [],
   "source": []
  },
  {
   "cell_type": "code",
   "execution_count": null,
   "metadata": {},
   "outputs": [],
   "source": []
  }
 ],
 "metadata": {
  "kernelspec": {
   "display_name": "Python 3",
   "language": "python",
   "name": "python3"
  },
  "language_info": {
   "codemirror_mode": {
    "name": "ipython",
    "version": 3
   },
   "file_extension": ".py",
   "mimetype": "text/x-python",
   "name": "python",
   "nbconvert_exporter": "python",
   "pygments_lexer": "ipython3",
   "version": "3.6.9"
  }
 },
 "nbformat": 4,
 "nbformat_minor": 4
}
