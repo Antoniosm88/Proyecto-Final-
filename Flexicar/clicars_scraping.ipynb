{
 "cells": [
  {
   "cell_type": "code",
   "execution_count": 1,
   "metadata": {},
   "outputs": [],
   "source": [
    "from selenium import webdriver\n",
    "from selenium.webdriver.common.keys import Keys\n",
    "from time import sleep\n",
    "import pandas as pd\n",
    "from selenium.webdriver.common.by import By\n",
    "from selenium.webdriver.common.action_chains import ActionChains\n",
    "from selenium.webdriver.common.keys import Keys\n",
    "import pandas as pd\n",
    "import re"
   ]
  },
  {
   "cell_type": "code",
   "execution_count": 2,
   "metadata": {},
   "outputs": [],
   "source": [
    "options = webdriver.ChromeOptions()\n",
    "options.add_argument(\"--headless\")\n",
    "options.add_argument(\"start-maximized\")\n",
    "options.add_argument(\"--disable-infobars\")\n",
    "driver = webdriver.Chrome(executable_path=r'/usr/bin/chromedriver',options=options) \n",
    "driver.execute_script(\"window.scrollTo(0,document.body.scrollHeight)\")\n",
    "driver.get('https://www.flexicar.es/coches-segunda-mano/#precio_to/10000/')"
   ]
  },
  {
   "cell_type": "code",
   "execution_count": 3,
   "metadata": {},
   "outputs": [
    {
     "data": {
      "text/plain": [
       "[<selenium.webdriver.remote.webelement.WebElement (session=\"6bbbcf2d05802df5e32034913f0300f1\", element=\"0.6690623646508336-1\")>]"
      ]
     },
     "execution_count": 3,
     "metadata": {},
     "output_type": "execute_result"
    }
   ],
   "source": [
    "precio= autos = driver.find_elements_by_xpath('//*[@id=\"listadocoches\"]')\n",
    "precio"
   ]
  },
  {
   "cell_type": "code",
   "execution_count": 4,
   "metadata": {},
   "outputs": [
    {
     "data": {
      "text/plain": [
       "['10.090€\\n9.390€\\nPrevious\\nNext\\nRenault Megane Coupé Bose EDC Tce 130\\n2015 66.250 kmGasolina Vaciamadrid\\ndesde 128€/mes   \\n11.490€\\n9.990€\\nPrevious\\nNext\\nSmart Forfour 0.9 66kW (90CV) S/S PROXY\\n2016 26.000 kmGasolina Alicante\\nAutomático  desde 136€/mes\\n7.990€\\n6.990€\\nPrevious\\nNext\\nFord Fiesta 1.5 TDCi 75cv Trend 3p\\n2014 37.500 kmDiesel Alicante\\ndesde 101€/mes   \\n6.790€\\n5.990€\\nPrevious\\nNext\\nKia Rio 1.2 CVVT 85cv Concept\\n2013 79.990 kmGasolina Alicante\\ndesde 93€/mes   \\n10.990€\\n9.990€\\nPrevious\\nNext\\nSEAT Ibiza 1.0 MPI 59kW (80CV) Reference Plus\\n2019 28.680 kmGasolina Vaciamadrid\\ndesde 136€/mes   \\n5.790€\\n4.990€\\nPrevious\\nNext\\nPeugeot 207 ACTIVE 1.4i 75\\n2012 88.380 kmGasolina Vaciamadrid\\ndesde 84€/mes   \\n9.790€\\n8.790€\\nPrevious\\nNext\\nFord Ka+ 1.2 Ti-VCT 63kW White Edition\\n2018 32.320 kmGasolina Vaciamadrid\\ndesde 120€/mes   \\n9.390€\\n8.390€\\nPrevious\\nNext\\nFord Ka+ 1.2 Ti-VCT 51kW Ultimate\\n2018 19.000 kmGasolina Vaciamadrid\\ndesde 114€/mes   \\n4.500€\\n3.490€\\nPrevious\\nNext\\nSEAT Leon 1.9 TDi 110CV SPORT\\n2003 175.000 kmDiesel Móstoles\\n   ']"
      ]
     },
     "execution_count": 4,
     "metadata": {},
     "output_type": "execute_result"
    }
   ],
   "source": [
    "cochesBuenos= [e.text for e in precio]\n",
    "cochesBuenos"
   ]
  },
  {
   "cell_type": "code",
   "execution_count": 9,
   "metadata": {},
   "outputs": [
    {
     "data": {
      "text/plain": [
       "['10.090€',\n",
       " '9.390€',\n",
       " 'Previous',\n",
       " 'Next',\n",
       " 'Renault Megane Coupé Bose EDC Tce 130',\n",
       " '2015 66.250 kmGasolina Vaciamadrid',\n",
       " 'desde 128€/mes   ',\n",
       " '11.490€',\n",
       " '9.990€',\n",
       " 'Previous',\n",
       " 'Next',\n",
       " 'Smart Forfour 0.9 66kW (90CV) S/S PROXY',\n",
       " '2016 26.000 kmGasolina Alicante',\n",
       " 'Automático  desde 136€/mes',\n",
       " '7.990€',\n",
       " '6.990€',\n",
       " 'Previous',\n",
       " 'Next',\n",
       " 'Ford Fiesta 1.5 TDCi 75cv Trend 3p',\n",
       " '2014 37.500 kmDiesel Alicante',\n",
       " 'desde 101€/mes   ',\n",
       " '6.790€',\n",
       " '5.990€',\n",
       " 'Previous',\n",
       " 'Next',\n",
       " 'Kia Rio 1.2 CVVT 85cv Concept',\n",
       " '2013 79.990 kmGasolina Alicante',\n",
       " 'desde 93€/mes   ',\n",
       " '10.990€',\n",
       " '9.990€',\n",
       " 'Previous',\n",
       " 'Next',\n",
       " 'SEAT Ibiza 1.0 MPI 59kW (80CV) Reference Plus',\n",
       " '2019 28.680 kmGasolina Vaciamadrid',\n",
       " 'desde 136€/mes   ',\n",
       " '5.790€',\n",
       " '4.990€',\n",
       " 'Previous',\n",
       " 'Next',\n",
       " 'Peugeot 207 ACTIVE 1.4i 75',\n",
       " '2012 88.380 kmGasolina Vaciamadrid',\n",
       " 'desde 84€/mes   ',\n",
       " '9.790€',\n",
       " '8.790€',\n",
       " 'Previous',\n",
       " 'Next',\n",
       " 'Ford Ka+ 1.2 Ti-VCT 63kW White Edition',\n",
       " '2018 32.320 kmGasolina Vaciamadrid',\n",
       " 'desde 120€/mes   ',\n",
       " '9.390€',\n",
       " '8.390€',\n",
       " 'Previous',\n",
       " 'Next',\n",
       " 'Ford Ka+ 1.2 Ti-VCT 51kW Ultimate',\n",
       " '2018 19.000 kmGasolina Vaciamadrid',\n",
       " 'desde 114€/mes   ',\n",
       " '4.500€',\n",
       " '3.490€',\n",
       " 'Previous',\n",
       " 'Next',\n",
       " 'SEAT Leon 1.9 TDi 110CV SPORT',\n",
       " '2003 175.000 kmDiesel Móstoles',\n",
       " '   ']"
      ]
     },
     "execution_count": 9,
     "metadata": {},
     "output_type": "execute_result"
    }
   ],
   "source": [
    "for e in cochesBuenos:\n",
    "    ok=e.split(\"\\n\")\n",
    "ok"
   ]
  },
  {
   "cell_type": "code",
   "execution_count": 10,
   "metadata": {},
   "outputs": [],
   "source": [
    "droplist=['Previous',\n",
    " 'Next']\n",
    "\n",
    "cleanList=[e for e in ok if e not in droplist]"
   ]
  },
  {
   "cell_type": "code",
   "execution_count": 12,
   "metadata": {},
   "outputs": [
    {
     "data": {
      "text/plain": [
       "['10.090€',\n",
       " '9.390€',\n",
       " 'Renault Megane Coupé Bose EDC Tce 130',\n",
       " '2015 66.250 kmGasolina Vaciamadrid',\n",
       " 'desde 128€/mes   ',\n",
       " '11.490€',\n",
       " '9.990€',\n",
       " 'Smart Forfour 0.9 66kW (90CV) S/S PROXY',\n",
       " '2016 26.000 kmGasolina Alicante',\n",
       " 'Automático  desde 136€/mes',\n",
       " '7.990€',\n",
       " '6.990€',\n",
       " 'Ford Fiesta 1.5 TDCi 75cv Trend 3p',\n",
       " '2014 37.500 kmDiesel Alicante',\n",
       " 'desde 101€/mes   ',\n",
       " '6.790€',\n",
       " '5.990€',\n",
       " 'Kia Rio 1.2 CVVT 85cv Concept',\n",
       " '2013 79.990 kmGasolina Alicante',\n",
       " 'desde 93€/mes   ',\n",
       " '10.990€',\n",
       " '9.990€',\n",
       " 'SEAT Ibiza 1.0 MPI 59kW (80CV) Reference Plus',\n",
       " '2019 28.680 kmGasolina Vaciamadrid',\n",
       " 'desde 136€/mes   ',\n",
       " '5.790€',\n",
       " '4.990€',\n",
       " 'Peugeot 207 ACTIVE 1.4i 75',\n",
       " '2012 88.380 kmGasolina Vaciamadrid',\n",
       " 'desde 84€/mes   ',\n",
       " '9.790€',\n",
       " '8.790€',\n",
       " 'Ford Ka+ 1.2 Ti-VCT 63kW White Edition',\n",
       " '2018 32.320 kmGasolina Vaciamadrid',\n",
       " 'desde 120€/mes   ',\n",
       " '9.390€',\n",
       " '8.390€',\n",
       " 'Ford Ka+ 1.2 Ti-VCT 51kW Ultimate',\n",
       " '2018 19.000 kmGasolina Vaciamadrid',\n",
       " 'desde 114€/mes   ',\n",
       " '4.500€',\n",
       " '3.490€',\n",
       " 'SEAT Leon 1.9 TDi 110CV SPORT',\n",
       " '2003 175.000 kmDiesel Móstoles',\n",
       " '   ']"
      ]
     },
     "execution_count": 12,
     "metadata": {},
     "output_type": "execute_result"
    }
   ],
   "source": [
    "cleanList"
   ]
  },
  {
   "cell_type": "code",
   "execution_count": null,
   "metadata": {},
   "outputs": [],
   "source": []
  }
 ],
 "metadata": {
  "kernelspec": {
   "display_name": "Python 3",
   "language": "python",
   "name": "python3"
  },
  "language_info": {
   "codemirror_mode": {
    "name": "ipython",
    "version": 3
   },
   "file_extension": ".py",
   "mimetype": "text/x-python",
   "name": "python",
   "nbconvert_exporter": "python",
   "pygments_lexer": "ipython3",
   "version": "3.6.9"
  }
 },
 "nbformat": 4,
 "nbformat_minor": 4
}
